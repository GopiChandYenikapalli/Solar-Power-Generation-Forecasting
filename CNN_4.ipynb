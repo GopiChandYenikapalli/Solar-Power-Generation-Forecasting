{
 "cells": [
  {
   "cell_type": "code",
   "execution_count": 103,
   "id": "df91c206",
   "metadata": {
    "_cell_guid": "b1076dfc-b9ad-4769-8c92-a6c4dae69d19",
    "_uuid": "8f2839f25d086af736a60e9eeb907d3b93b6e0e5",
    "execution": {
     "iopub.execute_input": "2022-11-23T17:51:04.342630Z",
     "iopub.status.busy": "2022-11-23T17:51:04.342088Z",
     "iopub.status.idle": "2022-11-23T17:51:10.351090Z",
     "shell.execute_reply": "2022-11-23T17:51:10.350079Z"
    },
    "papermill": {
     "duration": 6.016699,
     "end_time": "2022-11-23T17:51:10.353588",
     "exception": false,
     "start_time": "2022-11-23T17:51:04.336889",
     "status": "completed"
    },
    "tags": []
   },
   "outputs": [],
   "source": [
    "import pandas as pd\n",
    "import matplotlib.pyplot as plt\n",
    "import numpy as np\n",
    "import seaborn as sns\n",
    "from keras.optimizers import Adam\n",
    "import math\n",
    "from keras.models import Sequential\n",
    "from keras.layers import Dense, LSTM, Dropout,Flatten,Conv1D,MaxPooling1D,RepeatVector\n",
    "from sklearn.metrics import mean_squared_error\n",
    "plt.style.use('fivethirtyeight')\n",
    "from sklearn.preprocessing import MinMaxScaler"
   ]
  },
  {
   "cell_type": "code",
   "execution_count": 104,
   "id": "a8f86e70",
   "metadata": {
    "execution": {
     "iopub.execute_input": "2022-11-23T17:51:10.360343Z",
     "iopub.status.busy": "2022-11-23T17:51:10.359540Z",
     "iopub.status.idle": "2022-11-23T17:51:10.764819Z",
     "shell.execute_reply": "2022-11-23T17:51:10.763771Z"
    },
    "papermill": {
     "duration": 0.411071,
     "end_time": "2022-11-23T17:51:10.767232",
     "exception": false,
     "start_time": "2022-11-23T17:51:10.356161",
     "status": "completed"
    },
    "tags": []
   },
   "outputs": [
    {
     "name": "stderr",
     "output_type": "stream",
     "text": [
      "C:\\Users\\Z0172746\\AppData\\Local\\Temp\\ipykernel_18276\\1853304976.py:2: UserWarning: Pandas doesn't allow columns to be created via a new attribute name - see https://pandas.pydata.org/pandas-docs/stable/indexing.html#attribute-access\n",
      "  df1.Timestamp = pd.to_datetime(df1['date_time'])\n"
     ]
    }
   ],
   "source": [
    "df1 = pd.read_csv(r'D:\\data_sets_git\\pv_input_pvod.csv')\n",
    "df1.Timestamp = pd.to_datetime(df1['date_time'])\n",
    "df1.set_index('date_time',inplace=True)\n",
    "\n",
    "#scaling\n",
    "scaler = MinMaxScaler()\n",
    "num_vars = ['lmd_totalirrad','lmd_temperature','lmd_pressure','lmd_winddirection','lmd_windspeed','power']\n",
    "M = (df1.max())\n",
    "m = (df1.min())\n",
    "df1[num_vars] = scaler.fit_transform(df1[num_vars])\n",
    "M=np.array(M)\n",
    "m=np.array(m)\n",
    "M=np.reshape(M,(1,6))\n",
    "m=np.reshape(m,(1,6))"
   ]
  },
  {
   "cell_type": "code",
   "execution_count": 105,
   "id": "741c2f6b",
   "metadata": {},
   "outputs": [
    {
     "data": {
      "text/plain": [
       "28896.0"
      ]
     },
     "execution_count": 105,
     "metadata": {},
     "output_type": "execute_result"
    }
   ],
   "source": [
    "p=df1.size\n",
    "l=p/6\n",
    "l"
   ]
  },
  {
   "cell_type": "code",
   "execution_count": 106,
   "id": "c238f787",
   "metadata": {},
   "outputs": [],
   "source": [
    "days = 20\n",
    "X_data= []\n",
    "Y_data =[]\n",
    "for i in range(0, int(l)-days*96): \n",
    "\tfor j in range(0,days):\n",
    "\t\tX_data.append(df1.iloc[i+j*96]) #1 97 193\n",
    "\tY_data.append(df1.iloc[i+days*96]) #289\n",
    "\t# i=i+days-1\n",
    "X_data, Y_data = np.array(X_data), np.array(Y_data)"
   ]
  },
  {
   "cell_type": "code",
   "execution_count": 107,
   "id": "0d4e8417",
   "metadata": {},
   "outputs": [
    {
     "data": {
      "text/plain": [
       "(539520, 6)"
      ]
     },
     "execution_count": 107,
     "metadata": {},
     "output_type": "execute_result"
    }
   ],
   "source": [
    "X_data.shape"
   ]
  },
  {
   "cell_type": "code",
   "execution_count": 108,
   "id": "943d5cf3",
   "metadata": {},
   "outputs": [
    {
     "name": "stdout",
     "output_type": "stream",
     "text": [
      "(26976, 20, 6)\n",
      "(26976, 6)\n"
     ]
    },
    {
     "data": {
      "text/plain": [
       "26976"
      ]
     },
     "execution_count": 108,
     "metadata": {},
     "output_type": "execute_result"
    }
   ],
   "source": [
    "X_data =np.reshape(X_data,(int(X_data.shape[0]/days),days,6))\n",
    "print(X_data.shape)\n",
    "print(Y_data.shape)\n",
    "k=X_data.shape[0]\n",
    "k"
   ]
  },
  {
   "cell_type": "code",
   "execution_count": 109,
   "id": "1c97f2bf",
   "metadata": {},
   "outputs": [],
   "source": [
    "X_train=X_data[0:k-100]\n",
    "Y_train=Y_data[0:k-100]\n",
    "X_test=X_data[k-100:k]\n",
    "Y_test=Y_data[k-100:k]"
   ]
  },
  {
   "cell_type": "code",
   "execution_count": 110,
   "id": "5a572126",
   "metadata": {},
   "outputs": [
    {
     "name": "stdout",
     "output_type": "stream",
     "text": [
      "(26876, 20, 6)\n",
      "(26876, 6)\n",
      "(100, 20, 6)\n",
      "(100, 6)\n"
     ]
    }
   ],
   "source": [
    "X_train, Y_tain = np.array(X_train), np.array(Y_train)\n",
    "X_test, Y_test = np.array(X_test), np.array(Y_test)\n",
    "print(X_train.shape)\n",
    "print(Y_train.shape)\n",
    "print(X_test.shape)\n",
    "print(Y_test.shape)"
   ]
  },
  {
   "cell_type": "code",
   "execution_count": 111,
   "id": "c9ad550a",
   "metadata": {},
   "outputs": [],
   "source": [
    "def denorm(a):\n",
    "    return a*(M-m)+m"
   ]
  },
  {
   "cell_type": "code",
   "execution_count": 152,
   "id": "fdbb75e6",
   "metadata": {
    "execution": {
     "iopub.execute_input": "2022-11-23T17:51:10.774280Z",
     "iopub.status.busy": "2022-11-23T17:51:10.773167Z",
     "iopub.status.idle": "2022-11-23T17:56:06.560337Z",
     "shell.execute_reply": "2022-11-23T17:56:06.559407Z"
    },
    "papermill": {
     "duration": 295.793188,
     "end_time": "2022-11-23T17:56:06.562980",
     "exception": false,
     "start_time": "2022-11-23T17:51:10.769792",
     "status": "completed"
    },
    "tags": []
   },
   "outputs": [
    {
     "name": "stdout",
     "output_type": "stream",
     "text": [
      "Epoch 1/150\n",
      "1344/1344 [==============================] - 5s 3ms/step - loss: 0.0222 - mae: 0.1013\n",
      "Epoch 2/150\n",
      "1344/1344 [==============================] - 4s 3ms/step - loss: 0.0197 - mae: 0.0923\n",
      "Epoch 3/150\n",
      "1344/1344 [==============================] - 4s 3ms/step - loss: 0.0188 - mae: 0.0895\n",
      "Epoch 4/150\n",
      "1344/1344 [==============================] - 4s 3ms/step - loss: 0.0184 - mae: 0.0877\n",
      "Epoch 5/150\n",
      "1344/1344 [==============================] - 4s 3ms/step - loss: 0.0181 - mae: 0.0870\n",
      "Epoch 6/150\n",
      "1344/1344 [==============================] - 4s 3ms/step - loss: 0.0179 - mae: 0.0859\n",
      "Epoch 7/150\n",
      "1344/1344 [==============================] - 4s 3ms/step - loss: 0.0176 - mae: 0.0850\n",
      "Epoch 8/150\n",
      "1344/1344 [==============================] - 4s 3ms/step - loss: 0.0175 - mae: 0.0845\n",
      "Epoch 9/150\n",
      "1344/1344 [==============================] - 4s 3ms/step - loss: 0.0172 - mae: 0.0838\n",
      "Epoch 10/150\n",
      "1344/1344 [==============================] - 4s 3ms/step - loss: 0.0171 - mae: 0.0834\n",
      "Epoch 11/150\n",
      "1344/1344 [==============================] - 4s 3ms/step - loss: 0.0170 - mae: 0.0831\n",
      "Epoch 12/150\n",
      "1344/1344 [==============================] - 4s 3ms/step - loss: 0.0169 - mae: 0.0828\n",
      "Epoch 13/150\n",
      "1344/1344 [==============================] - 4s 3ms/step - loss: 0.0167 - mae: 0.0821\n",
      "Epoch 14/150\n",
      "1344/1344 [==============================] - 4s 3ms/step - loss: 0.0167 - mae: 0.0821\n",
      "Epoch 15/150\n",
      "1344/1344 [==============================] - 4s 3ms/step - loss: 0.0165 - mae: 0.0817\n",
      "Epoch 16/150\n",
      "1344/1344 [==============================] - 4s 3ms/step - loss: 0.0165 - mae: 0.0814\n",
      "Epoch 17/150\n",
      "1344/1344 [==============================] - 4s 3ms/step - loss: 0.0164 - mae: 0.0810\n",
      "Epoch 18/150\n",
      "1344/1344 [==============================] - 4s 3ms/step - loss: 0.0164 - mae: 0.0809\n",
      "Epoch 19/150\n",
      "1344/1344 [==============================] - 4s 3ms/step - loss: 0.0163 - mae: 0.0805\n",
      "Epoch 20/150\n",
      "1344/1344 [==============================] - 4s 3ms/step - loss: 0.0162 - mae: 0.0802\n",
      "Epoch 21/150\n",
      "1344/1344 [==============================] - 4s 3ms/step - loss: 0.0161 - mae: 0.0800\n",
      "Epoch 22/150\n",
      "1344/1344 [==============================] - 4s 3ms/step - loss: 0.0161 - mae: 0.0797\n",
      "Epoch 23/150\n",
      "1344/1344 [==============================] - 4s 3ms/step - loss: 0.0160 - mae: 0.0795\n",
      "Epoch 24/150\n",
      "1344/1344 [==============================] - 4s 3ms/step - loss: 0.0160 - mae: 0.0794\n",
      "Epoch 25/150\n",
      "1344/1344 [==============================] - 4s 3ms/step - loss: 0.0159 - mae: 0.0792\n",
      "Epoch 26/150\n",
      "1344/1344 [==============================] - 4s 3ms/step - loss: 0.0159 - mae: 0.0792\n",
      "Epoch 27/150\n",
      "1344/1344 [==============================] - 4s 3ms/step - loss: 0.0159 - mae: 0.0790\n",
      "Epoch 28/150\n",
      "1344/1344 [==============================] - 4s 3ms/step - loss: 0.0158 - mae: 0.0789\n",
      "Epoch 29/150\n",
      "1344/1344 [==============================] - 4s 3ms/step - loss: 0.0158 - mae: 0.0786\n",
      "Epoch 30/150\n",
      "1344/1344 [==============================] - 4s 3ms/step - loss: 0.0157 - mae: 0.0786\n",
      "Epoch 31/150\n",
      "1344/1344 [==============================] - 4s 3ms/step - loss: 0.0157 - mae: 0.0786\n",
      "Epoch 32/150\n",
      "1344/1344 [==============================] - 4s 3ms/step - loss: 0.0157 - mae: 0.0784\n",
      "Epoch 33/150\n",
      "1344/1344 [==============================] - 4s 3ms/step - loss: 0.0156 - mae: 0.0782\n",
      "Epoch 34/150\n",
      "1344/1344 [==============================] - 4s 3ms/step - loss: 0.0156 - mae: 0.0782\n",
      "Epoch 35/150\n",
      "1344/1344 [==============================] - 4s 3ms/step - loss: 0.0155 - mae: 0.0778\n",
      "Epoch 36/150\n",
      "1344/1344 [==============================] - 4s 3ms/step - loss: 0.0155 - mae: 0.0779\n",
      "Epoch 37/150\n",
      "1344/1344 [==============================] - 4s 3ms/step - loss: 0.0155 - mae: 0.0777\n",
      "Epoch 38/150\n",
      "1344/1344 [==============================] - 4s 3ms/step - loss: 0.0154 - mae: 0.0775\n",
      "Epoch 39/150\n",
      "1344/1344 [==============================] - 4s 3ms/step - loss: 0.0155 - mae: 0.0777\n",
      "Epoch 40/150\n",
      "1344/1344 [==============================] - 4s 3ms/step - loss: 0.0154 - mae: 0.0774\n",
      "Epoch 41/150\n",
      "1344/1344 [==============================] - 4s 3ms/step - loss: 0.0153 - mae: 0.0772\n",
      "Epoch 42/150\n",
      "1344/1344 [==============================] - 4s 3ms/step - loss: 0.0153 - mae: 0.0771\n",
      "Epoch 43/150\n",
      "1344/1344 [==============================] - 4s 3ms/step - loss: 0.0153 - mae: 0.0771\n",
      "Epoch 44/150\n",
      "1344/1344 [==============================] - 4s 3ms/step - loss: 0.0152 - mae: 0.0769\n",
      "Epoch 45/150\n",
      "1344/1344 [==============================] - 4s 3ms/step - loss: 0.0152 - mae: 0.0770\n",
      "Epoch 46/150\n",
      "1344/1344 [==============================] - 4s 3ms/step - loss: 0.0151 - mae: 0.0767\n",
      "Epoch 47/150\n",
      "1344/1344 [==============================] - 4s 3ms/step - loss: 0.0152 - mae: 0.0768\n",
      "Epoch 48/150\n",
      "1344/1344 [==============================] - 4s 3ms/step - loss: 0.0151 - mae: 0.0766\n",
      "Epoch 49/150\n",
      "1344/1344 [==============================] - 4s 3ms/step - loss: 0.0151 - mae: 0.0767\n",
      "Epoch 50/150\n",
      "1344/1344 [==============================] - 4s 3ms/step - loss: 0.0151 - mae: 0.0764\n",
      "Epoch 51/150\n",
      "1344/1344 [==============================] - 4s 3ms/step - loss: 0.0150 - mae: 0.0764\n",
      "Epoch 52/150\n",
      "1344/1344 [==============================] - 4s 3ms/step - loss: 0.0150 - mae: 0.0764\n",
      "Epoch 53/150\n",
      "1344/1344 [==============================] - 4s 3ms/step - loss: 0.0149 - mae: 0.0761\n",
      "Epoch 54/150\n",
      "1344/1344 [==============================] - 4s 3ms/step - loss: 0.0149 - mae: 0.0760\n",
      "Epoch 55/150\n",
      "1344/1344 [==============================] - 4s 3ms/step - loss: 0.0149 - mae: 0.0760\n",
      "Epoch 56/150\n",
      "1344/1344 [==============================] - 4s 3ms/step - loss: 0.0149 - mae: 0.0761\n",
      "Epoch 57/150\n",
      "1344/1344 [==============================] - 4s 3ms/step - loss: 0.0149 - mae: 0.0758\n",
      "Epoch 58/150\n",
      "1344/1344 [==============================] - 4s 3ms/step - loss: 0.0149 - mae: 0.0758\n",
      "Epoch 59/150\n",
      "1344/1344 [==============================] - 4s 3ms/step - loss: 0.0149 - mae: 0.0759\n",
      "Epoch 60/150\n",
      "1344/1344 [==============================] - 4s 3ms/step - loss: 0.0148 - mae: 0.0757\n",
      "Epoch 61/150\n",
      "1344/1344 [==============================] - 4s 3ms/step - loss: 0.0148 - mae: 0.0759\n",
      "Epoch 62/150\n",
      "1344/1344 [==============================] - 4s 3ms/step - loss: 0.0148 - mae: 0.0757\n",
      "Epoch 63/150\n",
      "1344/1344 [==============================] - 4s 3ms/step - loss: 0.0148 - mae: 0.0754\n",
      "Epoch 64/150\n",
      "1344/1344 [==============================] - 4s 3ms/step - loss: 0.0148 - mae: 0.0756\n",
      "Epoch 65/150\n",
      "1344/1344 [==============================] - 4s 3ms/step - loss: 0.0147 - mae: 0.0754\n",
      "Epoch 66/150\n",
      "1344/1344 [==============================] - 4s 3ms/step - loss: 0.0148 - mae: 0.0754\n",
      "Epoch 67/150\n",
      "1344/1344 [==============================] - 4s 3ms/step - loss: 0.0147 - mae: 0.0754\n",
      "Epoch 68/150\n",
      "1344/1344 [==============================] - 4s 3ms/step - loss: 0.0147 - mae: 0.0753\n",
      "Epoch 69/150\n",
      "1344/1344 [==============================] - 4s 3ms/step - loss: 0.0147 - mae: 0.0752\n",
      "Epoch 70/150\n",
      "1344/1344 [==============================] - 4s 3ms/step - loss: 0.0147 - mae: 0.0751\n",
      "Epoch 71/150\n",
      "1344/1344 [==============================] - 4s 3ms/step - loss: 0.0146 - mae: 0.0752\n",
      "Epoch 72/150\n",
      "1344/1344 [==============================] - 4s 3ms/step - loss: 0.0147 - mae: 0.0750\n",
      "Epoch 73/150\n",
      "1344/1344 [==============================] - 4s 3ms/step - loss: 0.0146 - mae: 0.0750\n",
      "Epoch 74/150\n",
      "1344/1344 [==============================] - 5s 3ms/step - loss: 0.0146 - mae: 0.0750\n",
      "Epoch 75/150\n",
      "1344/1344 [==============================] - 4s 3ms/step - loss: 0.0146 - mae: 0.0750\n",
      "Epoch 76/150\n",
      "1344/1344 [==============================] - 4s 3ms/step - loss: 0.0146 - mae: 0.0748\n",
      "Epoch 77/150\n",
      "1344/1344 [==============================] - 4s 3ms/step - loss: 0.0146 - mae: 0.0748\n",
      "Epoch 78/150\n",
      "1344/1344 [==============================] - 4s 3ms/step - loss: 0.0146 - mae: 0.0748\n",
      "Epoch 79/150\n",
      "1344/1344 [==============================] - 4s 3ms/step - loss: 0.0146 - mae: 0.0747\n",
      "Epoch 80/150\n",
      "1344/1344 [==============================] - 4s 3ms/step - loss: 0.0145 - mae: 0.0746\n",
      "Epoch 81/150\n",
      "1344/1344 [==============================] - 4s 3ms/step - loss: 0.0145 - mae: 0.0747\n",
      "Epoch 82/150\n",
      "1344/1344 [==============================] - 4s 3ms/step - loss: 0.0145 - mae: 0.0747\n",
      "Epoch 83/150\n",
      "1344/1344 [==============================] - 4s 3ms/step - loss: 0.0145 - mae: 0.0747\n",
      "Epoch 84/150\n",
      "1344/1344 [==============================] - 4s 3ms/step - loss: 0.0145 - mae: 0.0745\n",
      "Epoch 85/150\n",
      "1344/1344 [==============================] - 4s 3ms/step - loss: 0.0145 - mae: 0.0746\n",
      "Epoch 86/150\n",
      "1344/1344 [==============================] - 4s 3ms/step - loss: 0.0145 - mae: 0.0745\n",
      "Epoch 87/150\n",
      "1344/1344 [==============================] - 4s 3ms/step - loss: 0.0145 - mae: 0.0746\n",
      "Epoch 88/150\n",
      "1344/1344 [==============================] - 4s 3ms/step - loss: 0.0145 - mae: 0.0744\n",
      "Epoch 89/150\n",
      "1344/1344 [==============================] - 4s 3ms/step - loss: 0.0145 - mae: 0.0745\n",
      "Epoch 90/150\n",
      "1344/1344 [==============================] - 4s 3ms/step - loss: 0.0144 - mae: 0.0745\n",
      "Epoch 91/150\n",
      "1344/1344 [==============================] - 4s 3ms/step - loss: 0.0144 - mae: 0.0745\n",
      "Epoch 92/150\n",
      "1344/1344 [==============================] - 4s 3ms/step - loss: 0.0144 - mae: 0.0743\n",
      "Epoch 93/150\n",
      "1344/1344 [==============================] - 4s 3ms/step - loss: 0.0144 - mae: 0.0743\n",
      "Epoch 94/150\n",
      "1344/1344 [==============================] - 4s 3ms/step - loss: 0.0144 - mae: 0.0743\n",
      "Epoch 95/150\n",
      "1344/1344 [==============================] - 4s 3ms/step - loss: 0.0144 - mae: 0.0743\n",
      "Epoch 96/150\n",
      "1344/1344 [==============================] - 4s 3ms/step - loss: 0.0144 - mae: 0.0742\n",
      "Epoch 97/150\n",
      "1344/1344 [==============================] - 4s 3ms/step - loss: 0.0144 - mae: 0.0742\n",
      "Epoch 98/150\n",
      "1344/1344 [==============================] - 4s 3ms/step - loss: 0.0144 - mae: 0.0742\n",
      "Epoch 99/150\n",
      "1344/1344 [==============================] - 4s 3ms/step - loss: 0.0144 - mae: 0.0742\n",
      "Epoch 100/150\n",
      "1344/1344 [==============================] - 4s 3ms/step - loss: 0.0144 - mae: 0.0740\n",
      "Epoch 101/150\n",
      "1344/1344 [==============================] - 4s 3ms/step - loss: 0.0144 - mae: 0.0740\n",
      "Epoch 102/150\n",
      "1344/1344 [==============================] - 4s 3ms/step - loss: 0.0144 - mae: 0.0740\n",
      "Epoch 103/150\n",
      "1344/1344 [==============================] - 4s 3ms/step - loss: 0.0143 - mae: 0.0741\n",
      "Epoch 104/150\n",
      "1344/1344 [==============================] - 4s 3ms/step - loss: 0.0143 - mae: 0.0741\n",
      "Epoch 105/150\n",
      "1344/1344 [==============================] - 4s 3ms/step - loss: 0.0144 - mae: 0.0742\n",
      "Epoch 106/150\n",
      "1344/1344 [==============================] - 4s 3ms/step - loss: 0.0143 - mae: 0.0740\n",
      "Epoch 107/150\n",
      "1344/1344 [==============================] - 4s 3ms/step - loss: 0.0143 - mae: 0.0739\n",
      "Epoch 108/150\n",
      "1344/1344 [==============================] - 4s 3ms/step - loss: 0.0143 - mae: 0.0740\n",
      "Epoch 109/150\n",
      "1344/1344 [==============================] - 4s 3ms/step - loss: 0.0143 - mae: 0.0740\n",
      "Epoch 110/150\n",
      "1344/1344 [==============================] - 4s 3ms/step - loss: 0.0143 - mae: 0.0741\n",
      "Epoch 111/150\n",
      "1344/1344 [==============================] - 4s 3ms/step - loss: 0.0143 - mae: 0.0740\n",
      "Epoch 112/150\n",
      "1344/1344 [==============================] - 4s 3ms/step - loss: 0.0143 - mae: 0.0739\n",
      "Epoch 113/150\n",
      "1344/1344 [==============================] - 4s 3ms/step - loss: 0.0143 - mae: 0.0740\n",
      "Epoch 114/150\n",
      "1344/1344 [==============================] - 4s 3ms/step - loss: 0.0143 - mae: 0.0739\n",
      "Epoch 115/150\n",
      "1344/1344 [==============================] - 4s 3ms/step - loss: 0.0143 - mae: 0.0738\n",
      "Epoch 116/150\n",
      "1344/1344 [==============================] - 4s 3ms/step - loss: 0.0143 - mae: 0.0739\n",
      "Epoch 117/150\n",
      "1344/1344 [==============================] - 4s 3ms/step - loss: 0.0143 - mae: 0.0740\n",
      "Epoch 118/150\n",
      "1344/1344 [==============================] - 4s 3ms/step - loss: 0.0142 - mae: 0.0737\n",
      "Epoch 119/150\n",
      "1344/1344 [==============================] - 4s 3ms/step - loss: 0.0142 - mae: 0.0737\n",
      "Epoch 120/150\n",
      "1344/1344 [==============================] - 4s 3ms/step - loss: 0.0143 - mae: 0.0738\n",
      "Epoch 121/150\n",
      "1344/1344 [==============================] - 4s 3ms/step - loss: 0.0142 - mae: 0.0738\n",
      "Epoch 122/150\n",
      "1344/1344 [==============================] - 4s 3ms/step - loss: 0.0142 - mae: 0.0737\n",
      "Epoch 123/150\n",
      "1344/1344 [==============================] - 4s 3ms/step - loss: 0.0143 - mae: 0.0738\n",
      "Epoch 124/150\n",
      "1344/1344 [==============================] - 4s 3ms/step - loss: 0.0142 - mae: 0.0738\n",
      "Epoch 125/150\n",
      "1344/1344 [==============================] - 4s 3ms/step - loss: 0.0142 - mae: 0.0737\n",
      "Epoch 126/150\n",
      "1344/1344 [==============================] - 4s 3ms/step - loss: 0.0142 - mae: 0.0737\n",
      "Epoch 127/150\n",
      "1344/1344 [==============================] - 4s 3ms/step - loss: 0.0143 - mae: 0.0739\n",
      "Epoch 128/150\n",
      "1344/1344 [==============================] - 4s 3ms/step - loss: 0.0142 - mae: 0.0737\n",
      "Epoch 129/150\n",
      "1344/1344 [==============================] - 4s 3ms/step - loss: 0.0142 - mae: 0.0738\n",
      "Epoch 130/150\n",
      "1344/1344 [==============================] - 4s 3ms/step - loss: 0.0142 - mae: 0.0737\n",
      "Epoch 131/150\n",
      "1344/1344 [==============================] - 5s 3ms/step - loss: 0.0142 - mae: 0.0737\n",
      "Epoch 132/150\n",
      "1344/1344 [==============================] - 4s 3ms/step - loss: 0.0142 - mae: 0.0736\n",
      "Epoch 133/150\n",
      "1344/1344 [==============================] - 4s 3ms/step - loss: 0.0142 - mae: 0.0737\n",
      "Epoch 134/150\n",
      "1344/1344 [==============================] - 4s 3ms/step - loss: 0.0142 - mae: 0.0734\n",
      "Epoch 135/150\n",
      "1344/1344 [==============================] - 4s 3ms/step - loss: 0.0142 - mae: 0.0736\n",
      "Epoch 136/150\n",
      "1344/1344 [==============================] - 4s 3ms/step - loss: 0.0142 - mae: 0.0738\n",
      "Epoch 137/150\n",
      "1344/1344 [==============================] - 4s 3ms/step - loss: 0.0142 - mae: 0.0735\n",
      "Epoch 138/150\n",
      "1344/1344 [==============================] - 4s 3ms/step - loss: 0.0142 - mae: 0.0736\n",
      "Epoch 139/150\n",
      "1344/1344 [==============================] - 4s 3ms/step - loss: 0.0142 - mae: 0.0735\n",
      "Epoch 140/150\n",
      "1344/1344 [==============================] - 4s 3ms/step - loss: 0.0141 - mae: 0.0734\n",
      "Epoch 141/150\n",
      "1344/1344 [==============================] - 4s 3ms/step - loss: 0.0142 - mae: 0.0736\n",
      "Epoch 142/150\n",
      "1344/1344 [==============================] - 4s 3ms/step - loss: 0.0141 - mae: 0.0734\n",
      "Epoch 143/150\n",
      "1344/1344 [==============================] - 4s 3ms/step - loss: 0.0141 - mae: 0.0734\n",
      "Epoch 144/150\n",
      "1344/1344 [==============================] - 4s 3ms/step - loss: 0.0142 - mae: 0.0736\n",
      "Epoch 145/150\n",
      "1344/1344 [==============================] - 4s 3ms/step - loss: 0.0141 - mae: 0.0734\n",
      "Epoch 146/150\n",
      "1344/1344 [==============================] - 4s 3ms/step - loss: 0.0141 - mae: 0.0734\n",
      "Epoch 147/150\n",
      "1344/1344 [==============================] - 4s 3ms/step - loss: 0.0141 - mae: 0.0732\n",
      "Epoch 148/150\n",
      "1344/1344 [==============================] - 5s 4ms/step - loss: 0.0141 - mae: 0.0733\n",
      "Epoch 149/150\n",
      "1344/1344 [==============================] - 4s 3ms/step - loss: 0.0141 - mae: 0.0732\n",
      "Epoch 150/150\n",
      "1344/1344 [==============================] - 4s 3ms/step - loss: 0.0141 - mae: 0.0733\n"
     ]
    },
    {
     "data": {
      "text/plain": [
       "<keras.callbacks.History at 0x13584d52130>"
      ]
     },
     "execution_count": 152,
     "metadata": {},
     "output_type": "execute_result"
    }
   ],
   "source": [
    "# MODEL\n",
    "model = Sequential()\n",
    "model.add(Conv1D(filters = 10, kernel_size=3, activation = 'relu',input_shape=(days,6)))\n",
    "# model.add(MaxPooling1D(pool_size=2))\n",
    "\n",
    "model.add(Conv1D(filters=10, kernel_size=3, activation='relu'))\n",
    "\n",
    "model.add(Conv1D(filters=5, kernel_size=3, activation='relu'))\n",
    "\n",
    "model.add(Conv1D(filters=17, kernel_size=3, activation='relu'))\n",
    "\n",
    "\n",
    "# model.add(Conv1D(filters=10, kernel_size=3, activation='relu'))\n",
    "model.add(MaxPooling1D(pool_size=2))\n",
    "\n",
    "model.add(Flatten())\n",
    "# model.add(RepeatVector(30))\n",
    "# model.add(LSTM(150, return_sequences=False ,activation='relu', input_shape=(X_train.shape[1], 1), recurrent_dropout=0.2))\n",
    "# model.add(LSTM(75, return_sequences=True, activation='relu'))\n",
    "# model.add(LSTM(10, return_sequences=False, activation='relu'))\n",
    "model.add(Dense(512))\n",
    "# model.add(Dropout(0.2))\n",
    "# model.add(Dense(50))\n",
    "# model.add(Dropout(0.2))\n",
    "model.add(Dense(120))\n",
    "model.add(Dense(30))\n",
    "model.add(Dense(6))\n",
    "opt1 = Adam(learning_rate=0.001, beta_1=0.9, beta_2=0.999)\n",
    "model.compile(loss='mean_squared_error', optimizer=opt1, metrics = ['mae'])\n",
    "model.fit(X_train, Y_train, epochs=150, batch_size=20, verbose=1)"
   ]
  },
  {
   "cell_type": "code",
   "execution_count": 153,
   "id": "691624b1",
   "metadata": {},
   "outputs": [
    {
     "name": "stdout",
     "output_type": "stream",
     "text": [
      "840/840 [==============================] - 2s 2ms/step\n"
     ]
    }
   ],
   "source": [
    "outtrain = model.predict(X_train)\n"
   ]
  },
  {
   "cell_type": "code",
   "execution_count": 154,
   "id": "9874e112",
   "metadata": {},
   "outputs": [
    {
     "name": "stdout",
     "output_type": "stream",
     "text": [
      "4/4 [==============================] - 0s 3ms/step\n"
     ]
    }
   ],
   "source": [
    "outtest = model.predict(X_test)"
   ]
  },
  {
   "cell_type": "code",
   "execution_count": 155,
   "id": "e5cd2294",
   "metadata": {},
   "outputs": [
    {
     "name": "stdout",
     "output_type": "stream",
     "text": [
      "Training error: 0.4131\n",
      "Testing error: 0.6048\n"
     ]
    }
   ],
   "source": [
    "rr1=(np.round(np.sqrt(mean_squared_error(denorm(Y_train)[:,5],denorm(outtrain)[:,5])),4))\n",
    "rr2=(np.round(np.sqrt(mean_squared_error(denorm(Y_test)[:,5],denorm(outtest)[:,5])),4))\n",
    "\n",
    "print('Training error:', rr1)\n",
    "print('Testing error:', rr2)"
   ]
  },
  {
   "cell_type": "code",
   "execution_count": 159,
   "id": "a0473dfe",
   "metadata": {},
   "outputs": [
    {
     "data": {
      "image/png": "[encoded data removed]",
      "text/plain": [
       "<Figure size 600x300 with 1 Axes>"
      ]
     },
     "metadata": {},
     "output_type": "display_data"
    }
   ],
   "source": [
    "plt.figure(figsize=(6, 3))\n",
    "plt.plot(denorm(Y_test)[:,4])\n",
    "plt.plot(denorm(outtest)[:,4])\n",
    "plt.title('gen prediction_train')\n",
    "plt.xlabel(\"Time stamps\")\n",
    "plt.ylabel(\"power\") \n",
    "plt.legend(['Target', 'Predictions'])\n",
    "plt.show()"
   ]
  },
  {
   "cell_type": "code",
   "execution_count": 138,
   "id": "bd8f6b32",
   "metadata": {},
   "outputs": [
    {
     "data": {
      "text/plain": [
       "array([24.56667627, 24.60243776, 25.22589248, 24.28568107, 26.04584656,\n",
       "       25.0480234 , 25.39284244, 24.33494607, 25.32831104, 24.12877779,\n",
       "       24.04986744, 23.16293551, 23.92542774, 24.07705434, 23.7319115 ,\n",
       "       22.91078216, 23.78798222, 23.37258459, 22.96901752, 23.46140371,\n",
       "       23.34871361, 23.63005959, 23.11549336, 22.63375047, 22.95635649,\n",
       "       23.91926362, 23.41494794, 24.30614319, 23.40168728, 23.83511557,\n",
       "       23.86386448, 22.83208768, 23.92069072, 24.52918186, 24.99130509,\n",
       "       25.54148891, 25.97271358, 27.75784437, 27.30695807, 27.5173267 ,\n",
       "       28.06006321, 27.63798278, 30.03519944, 28.17925921, 31.48285058,\n",
       "       32.38446727, 31.52196097, 31.95313467, 31.70767911, 32.65056185,\n",
       "       32.5687913 , 32.65694783, 32.05090315, 33.81141943, 32.23842916,\n",
       "       32.87404123, 32.09853418, 33.75051575, 34.75593314, 32.24892256,\n",
       "       31.5220629 , 30.57572334, 31.24303747, 31.98339763, 30.74980581,\n",
       "       31.77966982, 31.52940828, 30.62440671, 32.36886509, 31.38183813,\n",
       "       28.57508815, 28.28642378, 28.83961771, 28.52021668, 28.10274735,\n",
       "       27.50006656, 27.72397168, 26.19500571, 25.54061346, 24.90616466,\n",
       "       25.66060396, 24.93194843, 24.92591623, 24.61373466, 24.23355886,\n",
       "       24.80575783, 24.41184768, 23.85245965, 23.86032371, 23.11089725,\n",
       "       23.40845702, 24.11685729, 24.16717164, 24.20454612, 24.20196474,\n",
       "       23.74217704, 23.40903566, 24.65346566, 24.37404747, 23.81479735])"
      ]
     },
     "execution_count": 138,
     "metadata": {},
     "output_type": "execute_result"
    }
   ],
   "source": [
    "denorm(outtest)[:,2]"
   ]
  },
  {
   "cell_type": "code",
   "execution_count": 139,
   "id": "073bd3c8",
   "metadata": {},
   "outputs": [
    {
     "data": {
      "text/plain": [
       "array([25.      , 24.700001, 24.700001, 24.      , 24.      , 23.1     ,\n",
       "       23.5     , 23.5     , 23.5     , 23.6     , 23.5     , 23.5     ,\n",
       "       23.6     , 23.799999, 23.6     , 23.6     , 23.200001, 23.200001,\n",
       "       23.299999, 21.799999, 21.9     , 21.799999, 22.      , 21.9     ,\n",
       "       21.6     , 21.      , 20.6     , 21.1     , 22.1     , 23.4     ,\n",
       "       24.299999, 24.700001, 24.799999, 24.9     , 25.1     , 26.1     ,\n",
       "       26.799999, 27.4     , 28.299999, 29.200001, 28.6     , 29.      ,\n",
       "       29.299999, 29.299999, 29.6     , 29.799999, 30.5     , 31.      ,\n",
       "       30.9     , 30.6     , 30.299999, 30.5     , 30.299999, 30.4     ,\n",
       "       30.4     , 29.9     , 29.4     , 29.4     , 29.4     , 29.5     ,\n",
       "       29.799999, 29.799999, 29.799999, 30.200001, 30.200001, 30.299999,\n",
       "       30.299999, 30.4     , 30.5     , 30.299999, 30.299999, 30.200001,\n",
       "       29.799999, 29.6     , 28.799999, 28.4     , 28.299999, 28.200001,\n",
       "       28.200001, 28.5     , 28.5     , 28.299999, 27.6     , 26.4     ,\n",
       "       26.1     , 25.799999, 25.6     , 25.4     , 25.299999, 26.      ,\n",
       "       25.700001, 25.299999, 24.5     , 25.      , 25.      , 24.299999,\n",
       "       23.6     , 24.4     , 24.      , 22.9     ])"
      ]
     },
     "execution_count": 139,
     "metadata": {},
     "output_type": "execute_result"
    }
   ],
   "source": [
    "denorm(Y_test)[:,1]"
   ]
  }
 ],
 "metadata": {
  "kernelspec": {
   "display_name": "Python 3.9.13 ('base')",
   "language": "python",
   "name": "python3"
  },
  "language_info": {
   "codemirror_mode": {
    "name": "ipython",
    "version": 3
   },
   "file_extension": ".py",
   "mimetype": "text/x-python",
   "name": "python",
   "nbconvert_exporter": "python",
   "pygments_lexer": "ipython3",
   "version": "3.9.15"
  },
  "papermill": {
   "default_parameters": {},
   "duration": 316.579112,
   "end_time": "2022-11-23T17:56:12.912454",
   "environment_variables": {},
   "exception": null,
   "input_path": "__notebook__.ipynb",
   "output_path": "__notebook__.ipynb",
   "parameters": {},
   "start_time": "2022-11-23T17:50:56.333342",
   "version": "2.3.4"
  },
  "vscode": {
   "interpreter": {
    "hash": "3d2bfaa5a1610d67c234a7905e64d968cb0f319c1265cae4867fef606ea3391a"
   }
  }
 },
 "nbformat": 4,
 "nbformat_minor": 5
}
